{
 "nbformat": 4,
 "nbformat_minor": 0,
 "metadata": {
  "colab": {
   "provenance": []
  },
  "kernelspec": {
   "name": "python3",
   "language": "python",
   "display_name": "Python 3 (ipykernel)"
  },
  "language_info": {
   "name": "python"
  }
 },
 "cells": [
  {
   "cell_type": "markdown",
   "source": [
    "# I. Functions. Arguments."
   ],
   "metadata": {
    "id": "kXpppdVm6wFy"
   }
  },
  {
   "cell_type": "markdown",
   "source": [
    "1. (5б) Назвіть основні 4 смислові  частини, з яких складається функція."
   ],
   "metadata": {
    "id": "u_krJdlbAkVz"
   }
  },
  {
   "cell_type": "markdown",
   "source": [
    "Основні частини, з яких складається функція:\n",
    "\n",
    "\n",
    "*   Заголовок функції - знаходиться назва та список параметрів\n",
    "*   Тіло функції - безпосередньо блок коду, який виконується під час виклику цієї функції\n",
    "*   Параметри функції - змінні, які функція приймає як вхідні дані\n",
    "*   Значення, яке повертає функція\n",
    "\n",
    "\n",
    "\n"
   ],
   "metadata": {
    "id": "KKTrTXmHAptb"
   }
  },
  {
   "cell_type": "markdown",
   "source": [
    "2. (3б) Визначте функцію, що приймає 2 аргументи та повертає результат ділення 1го аргумента на інший."
   ],
   "metadata": {
    "id": "ORM4PqJQAtDM"
   }
  },
  {
   "cell_type": "code",
   "execution_count": 11,
   "metadata": {
    "id": "EuDx-z8M6sLo",
    "ExecuteTime": {
     "end_time": "2024-02-25T15:06:00.889352Z",
     "start_time": "2024-02-25T15:06:00.861311Z"
    }
   },
   "outputs": [],
   "source": [
    "def divide(var1, var2):\n",
    "  return var1 / var2"
   ]
  },
  {
   "cell_type": "markdown",
   "source": [
    "3. (2б) Викличте вище визначену функцію, де другий аргумент дорівнює 0."
   ],
   "metadata": {
    "id": "5joQGQ-SAyMe"
   }
  },
  {
   "cell_type": "code",
   "source": [
    "divide(5, 0)"
   ],
   "metadata": {
    "id": "V5cBV1LOA3d-",
    "colab": {
     "base_uri": "https://localhost:8080/"
    },
    "outputId": "02d10b30-2e95-432b-d9fb-26b0c8f9f252",
    "ExecuteTime": {
     "end_time": "2024-02-25T15:06:00.903697Z",
     "start_time": "2024-02-25T15:06:00.887792Z"
    }
   },
   "execution_count": 12,
   "outputs": [
    {
     "data": {
      "text/plain": "2.5"
     },
     "execution_count": 12,
     "metadata": {},
     "output_type": "execute_result"
    }
   ]
  },
  {
   "cell_type": "markdown",
   "source": [
    "4. (4б) Перевизначте функцію так, щоби у випадку ділення на 0 функція повертала None, а в решті випадків - результат розрахунків."
   ],
   "metadata": {
    "id": "QyimWgW8A43-"
   }
  },
  {
   "cell_type": "code",
   "source": [
    "def new_divide(var1, var2):\n",
    "  if var2 == 0: return None\n",
    "  else: return var1/var2\n",
    "\n",
    "new_divide(5, 0)"
   ],
   "metadata": {
    "id": "7VIODtSjA8Ek",
    "ExecuteTime": {
     "end_time": "2024-02-25T15:06:07.676310Z",
     "start_time": "2024-02-25T15:06:07.670530Z"
    }
   },
   "execution_count": 17,
   "outputs": []
  },
  {
   "cell_type": "markdown",
   "source": [
    "5. (5б) Визначте функцію, що віднімає одне число від іншого (підказка: це буде 2 аргументи функції). При чому, якщо не визначити, скільки саме має бути віднято від числа, за замовчуванням має відніматися 1. Викличте функцію, передаючи тільки один аргумент."
   ],
   "metadata": {
    "id": "Y8mN0GfkA81l"
   }
  },
  {
   "cell_type": "code",
   "source": [
    "def subtract_two_numbers(var1, var2=1):\n",
    "  return var1 - var2\n",
    "\n",
    "print(subtract_two_numbers(5))"
   ],
   "metadata": {
    "id": "vg1kxkdgBA50",
    "colab": {
     "base_uri": "https://localhost:8080/"
    },
    "outputId": "f448ca54-5f6f-48a9-c7ed-dfdad86284fa",
    "ExecuteTime": {
     "end_time": "2024-02-25T15:06:00.914862Z",
     "start_time": "2024-02-25T15:06:00.906409Z"
    }
   },
   "execution_count": 14,
   "outputs": [
    {
     "name": "stdout",
     "output_type": "stream",
     "text": [
      "4\n"
     ]
    }
   ]
  },
  {
   "cell_type": "markdown",
   "source": [
    "6. (7б) Визначте функцію, яка приймає iterable (ітерабельний обʼєкт, напр. список), що складається з 7ми рядкових значень - назв погодних умов (напр. \"sunny\") за кожен день у тижні. Повертає функція словник, де ключами є рядки з погодними умовами, а значеннями - кількість разів, скільки дана погода була протягом тижня (напр. {'sunny': 1, ...}). Викличте цю функцію та виведіть результат її роботи на екран."
   ],
   "metadata": {
    "id": "D3mwQGNOBBs4"
   }
  },
  {
   "cell_type": "code",
   "source": [
    "def get_dict(weather_list):\n",
    "  unique_conditions = set(weather_list)\n",
    "  res = my_dict = {key: 0 for key in unique_conditions}\n",
    "  for i in weather_list:\n",
    "    res[i] += 1\n",
    "  return res\n",
    "\n",
    "print(get_dict([\"Sunny\", \"Cloudy\", \"Rainy\", \"Sunny\", \"Foggy\", \"Snowy\", \"Snowy\"]))"
   ],
   "metadata": {
    "id": "OsWm-hKcBFyn",
    "colab": {
     "base_uri": "https://localhost:8080/"
    },
    "outputId": "a0695299-026f-4ef9-a694-204e78e6778d",
    "ExecuteTime": {
     "end_time": "2024-02-25T15:06:00.916334Z",
     "start_time": "2024-02-25T15:06:00.910852Z"
    }
   },
   "execution_count": 15,
   "outputs": [
    {
     "name": "stdout",
     "output_type": "stream",
     "text": [
      "{'Cloudy': 1, 'Sunny': 2, 'Snowy': 2, 'Foggy': 1, 'Rainy': 1}\n"
     ]
    }
   ]
  },
  {
   "cell_type": "markdown",
   "source": [
    "7. (15б) Напишіть програму, яка б шукала необхідне число у впорядкованому списку цілочислених значень, де\n",
    "число має вводитись з консолі.\n",
    "власне алгоритм пошуку винесений в окрему функцію, яка повертає булеве значення (знайдено число - True, не знайдено - False).\n",
    "в залежності від результату функції, виведіть на екран повідомлення про успішний або ж неуспішний пошук.\n",
    "Зауваження: використовувати оператор in заборонено."
   ],
   "metadata": {
    "id": "RMiCcdOsBKQT"
   }
  },
  {
   "cell_type": "code",
   "source": [
    "def search_number(search_list, number):\n",
    "  left = 0\n",
    "  right = len(search_list) - 1\n",
    "  while left <= right:\n",
    "    mid = (left + right) // 2\n",
    "    if search_list[mid] == number: return True\n",
    "    elif search_list[mid] < number: left = mid + 1\n",
    "    else: right = mid - 1\n",
    "\n",
    "  return False\n",
    "\n",
    "search_list = [-3, -1, 5, 6, 7, 8, 11, 14]\n",
    "number = int(input(\"Введіть ціле число для пошуку його в списку: \"))\n",
    "print(f\"Введене число є в списку - {search_number(search_list, number)}\")"
   ],
   "metadata": {
    "id": "UNCZg65OBOy-",
    "colab": {
     "base_uri": "https://localhost:8080/"
    },
    "outputId": "41800aa8-e216-4112-b2fd-a12e80b9d2d2",
    "ExecuteTime": {
     "end_time": "2024-02-25T15:08:46.980734Z",
     "start_time": "2024-02-25T15:08:45.244092Z"
    }
   },
   "execution_count": 18,
   "outputs": [
    {
     "name": "stdout",
     "output_type": "stream",
     "text": [
      "Введене число є в списку - False\n"
     ]
    }
   ]
  },
  {
   "cell_type": "markdown",
   "source": [
    "# II. Lambda functions."
   ],
   "metadata": {
    "id": "Ae1n_OvLBTsy"
   }
  },
  {
   "cell_type": "markdown",
   "source": [
    "8. (4б) В яких випадках варто використовувати лямбда-функції?"
   ],
   "metadata": {
    "id": "xaD_wSlaCWen"
   }
  },
  {
   "cell_type": "markdown",
   "source": [
    "Якщо функція складається з 1-2 рядків коду і не буде перевикористовуватись"
   ],
   "metadata": {
    "id": "42MB6OoLCakR"
   }
  },
  {
   "cell_type": "markdown",
   "source": [
    "9. (9б) Визначте список з рядками. Після цього визначте анонімну функцію для отримання першого символу у верхньому регістрі для кожного рядка списку.\n",
    "Підказка: використовуйте анонімну функцію в якості агрумента до вбудованої ф-ції, яка створена для застосування функцій над iterable обʼєктами. Результат виведіть на екран у вигляді кортежу."
   ],
   "metadata": {
    "id": "USrzrk7GCedk"
   }
  },
  {
   "cell_type": "code",
   "source": [
    "list_of_words = [\"one\", \"two\", \"three\", \"four\", \"five\"]\n",
    "print(tuple(map(lambda word: word[0].upper(), list_of_words)))"
   ],
   "metadata": {
    "id": "M8QWUsMlCjWH",
    "colab": {
     "base_uri": "https://localhost:8080/"
    },
    "outputId": "875f6eb7-5908-4f7f-f920-50a7d1151a51",
    "ExecuteTime": {
     "start_time": "2024-02-25T15:06:03.992771Z"
    }
   },
   "execution_count": null,
   "outputs": []
  },
  {
   "cell_type": "markdown",
   "source": [
    "10. (10б) Визначте список з числовими значеннями (і цілими, і з рухомою комою). а) Відфільтруйте всі числа, які діляться націло на 3 за допомогою вбудованої функції та анонімної функції в якості аргумента). Збережіть результат у змінній, не приводяти явно до будь-якого типу. б) Використовуючи результат на кроці 12.а у якості аргументу, та за допомогою лямбда-функції в якості іншого аргументу до вбудованої функції, додайте до кожного елементу число 1 та опісля зведіть у квадрат. Остаточний результат приведіть явно до списку та виведіть на екран."
   ],
   "metadata": {
    "id": "9fyUhXOoCtGp"
   }
  },
  {
   "cell_type": "code",
   "source": [
    "numbers = [1, 2.1, 3.3, 4, 6.0, 3, 9]\n",
    "filtered_numbers = filter(lambda num: num % 3 == 0, numbers)\n",
    "result = list(map(lambda num: (num + 1) ** 2, filtered_numbers))\n",
    "print(result)"
   ],
   "metadata": {
    "id": "exEx2_okCsql",
    "colab": {
     "base_uri": "https://localhost:8080/"
    },
    "outputId": "67463cbf-5e00-47de-d6d4-3eb83d7a3d86",
    "ExecuteTime": {
     "start_time": "2024-02-25T15:06:03.995509Z"
    }
   },
   "execution_count": null,
   "outputs": []
  },
  {
   "cell_type": "markdown",
   "source": [
    "# III. Decorators."
   ],
   "metadata": {
    "id": "o_x8cG_WC7jp"
   }
  },
  {
   "cell_type": "markdown",
   "source": [
    "11. (11б) Визначте декоратор, який би виводив у консоль повідомлення про початок роботи і назву функції (напр. my_function._ _ name _ _), а після відпрацювання функції - повідомлення про закінчення роботи і назву функції, що задекорована."
   ],
   "metadata": {
    "id": "mhxS4-mfC8LQ"
   }
  },
  {
   "cell_type": "code",
   "source": [
    "def my_decorator(func):\n",
    "    def wrapper(*args, **kwargs):\n",
    "        print(f\"Function \\\"{func.__name__}\\\" start working\")\n",
    "        result = func(*args, **kwargs)\n",
    "        print(f\"Function \\\"{func.__name__}\\\" stop working\")\n",
    "        return result\n",
    "    return wrapper"
   ],
   "metadata": {
    "id": "srd1ygWjDGhO",
    "ExecuteTime": {
     "start_time": "2024-02-25T15:06:03.997063Z"
    }
   },
   "execution_count": null,
   "outputs": []
  },
  {
   "cell_type": "markdown",
   "source": [
    "12. (4б) Задекоруйте двома різними способами функції з завдання 4 та 5 декоратором із завдання 11. (**УВАГА**: не декоруйте функції двічі!)."
   ],
   "metadata": {
    "id": "rxGZwVBiDph3"
   }
  },
  {
   "cell_type": "code",
   "source": [
    "new_divide = my_decorator(new_divide)\n",
    "\n",
    "@my_decorator\n",
    "def subtract_two_numbers(var1, var2=1):\n",
    "  return var1 - var2\n"
   ],
   "metadata": {
    "id": "06lj7eq_DwZe",
    "ExecuteTime": {
     "start_time": "2024-02-25T15:06:03.998387Z"
    }
   },
   "execution_count": null,
   "outputs": []
  },
  {
   "cell_type": "markdown",
   "source": [
    "13. (2б) Викличте одну з задекорованих функцій і виведіть її результат на екран."
   ],
   "metadata": {
    "id": "P0ep1urBDzf-"
   }
  },
  {
   "cell_type": "code",
   "source": [
    "result1 = new_divide(10, 2)\n",
    "print(result1)\n",
    "\n"
   ],
   "metadata": {
    "id": "1QvTw0ctD0S3",
    "colab": {
     "base_uri": "https://localhost:8080/"
    },
    "outputId": "ec819c34-00c0-4b4e-fb0b-8128395bf4fd",
    "ExecuteTime": {
     "start_time": "2024-02-25T15:06:03.999543Z"
    }
   },
   "execution_count": null,
   "outputs": []
  },
  {
   "cell_type": "markdown",
   "source": [
    "# IV. Recursion."
   ],
   "metadata": {
    "id": "poECCpuoD2S9"
   }
  },
  {
   "cell_type": "markdown",
   "source": [
    "14. (4б) Назвіть дві частини функції, які є обовʼязковими для того, щоб називати її рекурсивною."
   ],
   "metadata": {
    "id": "DqkURfdsD7MY"
   }
  },
  {
   "cell_type": "markdown",
   "source": [
    "\n",
    "\n",
    "*   Виклик функції зсередини самої себе\n",
    "*   Умова зупинки рекурсії (базовий випадок)\n",
    "\n"
   ],
   "metadata": {
    "id": "HYW6ttIeIQIU"
   }
  },
  {
   "cell_type": "markdown",
   "source": [
    "15. (15б) Визначте функцію, яка рекурсивно реалізовує пошук числа у послідовності Фібоначчі за її індексом (нумерація починається з нуля). Наприклад, потрібно знайти перше число у послідовності, тоді функція прийматиме 0 у якості аргумента і повертатиме 1, якщо ж знаходити третє число (індекс 2) послідовності, то функція повертатиме 2, якщо ж знаходити десяте число (індекс 9), то функція повертатиме 55."
   ],
   "metadata": {
    "id": "WYVt20UmEA35"
   }
  },
  {
   "cell_type": "code",
   "source": [
    "def get_fibonaci_number(index):\n",
    "  if index == 0 or index == 1: return 1\n",
    "  else: return get_fibonaci_number(index - 1) + get_fibonaci_number(index - 2)\n",
    "\n",
    "print(get_fibonaci_number(10))"
   ],
   "metadata": {
    "id": "xIMhp05AIpV_",
    "colab": {
     "base_uri": "https://localhost:8080/"
    },
    "outputId": "fb04440e-643e-4fc2-c2b4-5e8f21d60bf6",
    "ExecuteTime": {
     "end_time": "2024-02-25T15:06:04.000786Z",
     "start_time": "2024-02-25T15:06:04.000561Z"
    }
   },
   "execution_count": null,
   "outputs": []
  },
  {
   "cell_type": "markdown",
   "source": [
    "# Вітаю! Ви велика(ий) молодець, що впоралась(вся). Похваліть себе та побалуйте чимось приємним. Я Вами пишаюся."
   ],
   "metadata": {
    "id": "ytXC8n_4Ip0W"
   }
  }
 ]
}
