{
 "nbformat": 4,
 "nbformat_minor": 0,
 "metadata": {
  "colab": {
   "provenance": []
  },
  "kernelspec": {
   "name": "python3",
   "language": "python",
   "display_name": "Python 3 (ipykernel)"
  },
  "language_info": {
   "name": "python"
  }
 },
 "cells": [
  {
   "cell_type": "markdown",
   "source": [
    "# I. OOP"
   ],
   "metadata": {
    "id": "5qV_sehzFCTp"
   }
  },
  {
   "cell_type": "markdown",
   "source": [
    "1. (6б). Створіть клас Animal, додайте три атрибути, один з яких має значення за замовчуванням та два методи на свій розсуд."
   ],
   "metadata": {
    "id": "tx_U_hOALyfg"
   }
  },
  {
   "cell_type": "code",
   "source": [
    "class Animal:\n",
    "    def __init__(self, name, specie, age=0):\n",
    "        self.name = name\n",
    "        self.spacie = specie\n",
    "        self.age = age\n",
    "\n",
    "    def eat(self):\n",
    "        print(f'{self.spacie} {self.name} is eating')\n",
    "\n",
    "    def happyBirthday(self):\n",
    "        self.age += 1"
   ],
   "metadata": {
    "id": "-Vf895KaL88N",
    "ExecuteTime": {
     "end_time": "2024-03-03T16:38:29.342843Z",
     "start_time": "2024-03-03T16:38:29.323113Z"
    }
   },
   "execution_count": 6,
   "outputs": []
  },
  {
   "cell_type": "markdown",
   "source": [
    "2. (2б). Створіть два обʼєкти цього класу, де один з обʼєктів створюється із дефолтним значенням атрибуту. На одному обʼєкті отримайте значення його атрибуту, а на іншому викличте один з його методів."
   ],
   "metadata": {
    "id": "X_UlOMB0L93w"
   }
  },
  {
   "cell_type": "code",
   "source": [
    "animal1 = Animal('Rocky', 'dog', 5)\n",
    "animal2 = Animal('Simba', 'cat')\n",
    "print(animal1.name)\n",
    "animal2.eat()"
   ],
   "metadata": {
    "id": "7gBu0ESOMCpG",
    "colab": {
     "base_uri": "https://localhost:8080/"
    },
    "outputId": "77f186f3-da5d-4bc3-bc9a-731a9208d924",
    "ExecuteTime": {
     "end_time": "2024-03-03T16:38:29.358039Z",
     "start_time": "2024-03-03T16:38:29.346739Z"
    }
   },
   "execution_count": 7,
   "outputs": [
    {
     "name": "stdout",
     "output_type": "stream",
     "text": [
      "Rocky\n",
      "cat Simba is eating\n"
     ]
    }
   ]
  },
  {
   "cell_type": "markdown",
   "source": [
    "3. (5б). Створіть клас, де атрибути мають різні рівні доступу. Спробуйте отримати їхні значення та опишіть результати."
   ],
   "metadata": {
    "id": "HoqSCZt1MHn5"
   }
  },
  {
   "cell_type": "code",
   "source": [
    "class Human:\n",
    "    def __init__(self, friends, name, age):\n",
    "        self.friends = friends\n",
    "        self._name = name\n",
    "        self.__age = age\n",
    "\n",
    "human = Human(['Bill', 'Edward'], 'Rayan', 27)\n",
    "print(human.friends)\n",
    "print(human._name)\n",
    "print(human.__age)"
   ],
   "metadata": {
    "id": "r9b3vJxBMSPV",
    "colab": {
     "base_uri": "https://localhost:8080/"
    },
    "outputId": "09e31feb-8a42-45f2-c398-84d77704bee9",
    "ExecuteTime": {
     "end_time": "2024-03-03T16:38:29.483173Z",
     "start_time": "2024-03-03T16:38:29.351856Z"
    }
   },
   "execution_count": 8,
   "outputs": [
    {
     "name": "stdout",
     "output_type": "stream",
     "text": [
      "['Bill', 'Edward']\n",
      "Rayan\n"
     ]
    },
    {
     "ename": "AttributeError",
     "evalue": "'Human' object has no attribute '__age'",
     "output_type": "error",
     "traceback": [
      "\u001B[0;31m---------------------------------------------------------------------------\u001B[0m",
      "\u001B[0;31mAttributeError\u001B[0m                            Traceback (most recent call last)",
      "Cell \u001B[0;32mIn[8], line 10\u001B[0m\n\u001B[1;32m      8\u001B[0m \u001B[38;5;28mprint\u001B[39m(human\u001B[38;5;241m.\u001B[39mfriends)\n\u001B[1;32m      9\u001B[0m \u001B[38;5;28mprint\u001B[39m(human\u001B[38;5;241m.\u001B[39m_name)\n\u001B[0;32m---> 10\u001B[0m \u001B[38;5;28mprint\u001B[39m(\u001B[43mhuman\u001B[49m\u001B[38;5;241;43m.\u001B[39;49m\u001B[43m__age\u001B[49m)\n",
      "\u001B[0;31mAttributeError\u001B[0m: 'Human' object has no attribute '__age'"
     ]
    }
   ]
  },
  {
   "cell_type": "markdown",
   "source": [
    "В перших 2 випадках ми змогли доступитись до полів бо їхні модифікатори доступу були public та protected відповідно, а в 3 випадку атрибут є private, тому ми не можем до нього доступитись"
   ],
   "metadata": {
    "id": "XnlMYw9ai1IQ"
   }
  },
  {
   "cell_type": "markdown",
   "source": [
    "4. (7б). Як ви розумієте термін self? Для чого використовується метод __init __?"
   ],
   "metadata": {
    "id": "5op2m2vgMSkZ"
   }
  },
  {
   "cell_type": "markdown",
   "source": [
    "Self є посиланням на поточним об'єкт класу і використовується для доступу до атрибутів чи методів цього об'єкта. Метод  __init __ використовується для ініціалізації об'єкта, тобто для заповнення його атрибутів значеннями"
   ],
   "metadata": {
    "id": "DyiPqNRvMasx"
   }
  },
  {
   "cell_type": "markdown",
   "source": [
    "5. (9б). Створіть клас Фігура без атрибутів, з методом get_area для отримання площі фігури, що повертає 0 та __add __, який приймає self та other в якості аргументів, а повертає суму площин фігур self та other."
   ],
   "metadata": {
    "id": "-6X8EGfjMd2y"
   }
  },
  {
   "cell_type": "code",
   "source": [
    "class Figure:\n",
    "    def get_area(self):\n",
    "        return 0\n",
    "\n",
    "    def __add__(self, other):\n",
    "        return self.get_area() + other.get_area()"
   ],
   "metadata": {
    "id": "4rvO_wYUMaEr",
    "ExecuteTime": {
     "start_time": "2024-03-03T16:38:29.482061Z"
    }
   },
   "execution_count": null,
   "outputs": []
  },
  {
   "cell_type": "markdown",
   "source": [
    "6. (11б). Створіть 2 дочірніх класи від Фігури: Трикутник та Коло, які мають атрибути, необхідні для розрахунку площин. Визначте метод get_area в кожному з них так, щоби вони розраховували площу в залежності від формули для кожного типу фігури. Створіть обʼєкт класу Трикутник та обʼєкт класу Коло. Виконайте операцію суми за допомогою оператора + між ними."
   ],
   "metadata": {
    "id": "SFcKnnv5Mo_z"
   }
  },
  {
   "cell_type": "code",
   "source": [
    "import math\n",
    "class Triangle (Figure):\n",
    "    def __init__(self, side, heighToTheSide):\n",
    "        self.side = side\n",
    "        self.heighToTheSide = heighToTheSide\n",
    "\n",
    "    def get_area(self):\n",
    "        return 0.5 * self.side * self.heighToTheSide\n",
    "\n",
    "class Circle (Figure):\n",
    "    def __init__(self, radius):\n",
    "        self.radius = radius\n",
    "\n",
    "    def get_area(self):\n",
    "        return math.pi * (self.radius ** 2)\n",
    "\n",
    "triangle = Triangle(8, 4)\n",
    "circle = Circle(3)\n",
    "print(triangle.get_area())\n",
    "print(circle.get_area())\n",
    "print(triangle + circle)\n"
   ],
   "metadata": {
    "id": "H3GVNr69Muf3",
    "colab": {
     "base_uri": "https://localhost:8080/"
    },
    "outputId": "904e8922-93ac-4bf6-ab64-e188d91b2176",
    "ExecuteTime": {
     "start_time": "2024-03-03T16:38:29.483740Z"
    }
   },
   "execution_count": null,
   "outputs": []
  },
  {
   "cell_type": "markdown",
   "source": [
    "7. (3б). Продемонструйте різницю між isinstance та issubclass."
   ],
   "metadata": {
    "id": "HCvR206YMvLK"
   }
  },
  {
   "cell_type": "code",
   "source": [
    "\n",
    "print(isinstance(triangle, Figure))\n",
    "print(issubclass(Figure, Triangle))"
   ],
   "metadata": {
    "id": "L_V1bBvDM0GN",
    "colab": {
     "base_uri": "https://localhost:8080/"
    },
    "outputId": "45147088-931f-4cb0-e304-f4ac5721ab96",
    "ExecuteTime": {
     "start_time": "2024-03-03T16:38:29.485391Z"
    }
   },
   "execution_count": null,
   "outputs": []
  },
  {
   "cell_type": "markdown",
   "source": [
    "Тобто метод isinstance перевіряє чи є певний **об'єкт** екземпляром певного класу або його підкласу, а метод issubclass перевіряє чи є один **клас** підкласом іншого класу"
   ],
   "metadata": {
    "id": "KxBi5ST-qpFc"
   }
  },
  {
   "cell_type": "markdown",
   "source": [
    "8. (13б). Створіть клас BankAccount з приватними атрибутами balance та account_number. Реалізуйте методи поповнення та зняття коштів, забезпечивши належну інкапсуляцію. Підказка: використовуйте декоратори property та setter."
   ],
   "metadata": {
    "id": "jjsaBZ-iM0Qq"
   }
  },
  {
   "cell_type": "code",
   "source": [
    "class BankAccount:\n",
    "    def __init__(self, balance, account_number):\n",
    "        self.__balance = balance\n",
    "        self.__account_number = account_number\n",
    "\n",
    "    @property\n",
    "    def balance(self):\n",
    "        return self.__balance\n",
    "\n",
    "    @property\n",
    "    def account_number(self):\n",
    "        return self.__account_number\n",
    "\n",
    "    @balance.setter\n",
    "    def balance(self, value):\n",
    "        #print(\"Setter is used\")\n",
    "        self.__balance = value\n",
    "\n",
    "    def deposit(self, amountOfMoney):\n",
    "        self.balance += amountOfMoney\n",
    "        print(\"Money is deposited\")\n",
    "\n",
    "    def withDraw(self, amountOfMoney):\n",
    "        if amountOfMoney > self.balance:\n",
    "            print(\"Not enough money on your account\")\n",
    "        else:\n",
    "            self.balance -= amountOfMoney\n",
    "            print(\"Money is withdrawn\")\n",
    "\n",
    "bankAccount = BankAccount(2500, '8962')\n",
    "bankAccount.deposit(500)\n",
    "print(f\"Balance: {bankAccount.balance}\")\n",
    "bankAccount.withDraw(100)\n",
    "print(f\"Balance: {bankAccount.balance}\")"
   ],
   "metadata": {
    "id": "xCvZ7lh8M7YA",
    "colab": {
     "base_uri": "https://localhost:8080/"
    },
    "outputId": "dc4e4c17-f92c-48bd-92de-cd9214a1f8b8",
    "ExecuteTime": {
     "end_time": "2024-03-03T16:39:17.600187Z",
     "start_time": "2024-03-03T16:39:17.585049Z"
    }
   },
   "execution_count": 11,
   "outputs": [
    {
     "name": "stdout",
     "output_type": "stream",
     "text": [
      "Money is deposited\n",
      "Balance: 800\n",
      "Money is withdrawn\n",
      "Balance: 700\n"
     ]
    }
   ]
  },
  {
   "cell_type": "markdown",
   "source": [
    "(11б). Створіть клас Library, який містить список об'єктів типу Book. Реалізуйте методи для додавання книги, видалення книги та відображення списку книг."
   ],
   "metadata": {
    "id": "tIzL2SJTM8ft"
   }
  },
  {
   "cell_type": "code",
   "source": [
    "class Book:\n",
    "    def __init__(self, name, author):\n",
    "        self.name = name\n",
    "        self.author = author\n",
    "\n",
    "    def __str__(self):\n",
    "        return f'\\\"{self.name}\\\" by {self.author}'\n",
    "\n",
    "class Library:\n",
    "    def __init__(self, books):\n",
    "        self.books = books\n",
    "\n",
    "    def add_book(self, book):\n",
    "        self.books.append(book)\n",
    "\n",
    "    def delete_book(self, bookName):\n",
    "        for book in self.books:\n",
    "            if book.name == bookName:\n",
    "                self.books.remove(book)\n",
    "                print(f\"Book \\\"{bookName}\\\" is deleted\")\n",
    "                return\n",
    "        print(\"No such book in library\")\n",
    "\n",
    "    def __str__(self):\n",
    "        result = \"Books in the library:\\n\"\n",
    "        for book in self.books:\n",
    "            result += str(book) + \"\\n\"\n",
    "        return result\n",
    "\n",
    "library = Library([Book('The Divine Comedy', 'Dante Alighieri'), Book('The Grapes of Wrath', 'John Steinbeck'), Book('Ulysses', 'James Joyce')])\n",
    "library.add_book(Book('Catch-22', 'Joseph Heller'))\n",
    "library.delete_book('The Divine Comedy')\n",
    "print(library)"
   ],
   "metadata": {
    "id": "HWxfJKLtNAUZ",
    "colab": {
     "base_uri": "https://localhost:8080/"
    },
    "outputId": "beb9f0d0-fb45-4077-ac25-604433fd299c",
    "ExecuteTime": {
     "end_time": "2024-03-04T14:12:50.078531Z",
     "start_time": "2024-03-04T14:12:50.075205Z"
    }
   },
   "execution_count": 1,
   "outputs": [
    {
     "name": "stdout",
     "output_type": "stream",
     "text": [
      "Book \"The Divine Comedy\" is deleted\n",
      "Books in the library:\n",
      "\"The Grapes of Wrath\" by John Steinbeck\n",
      "\"Ulysses\" by James Joyce\n",
      "\"Catch-22\" by Joseph Heller\n"
     ]
    }
   ]
  },
  {
   "cell_type": "markdown",
   "source": [
    "10. (13б). Створіть клас Person з атрибутами name та age. Створіть ще один клас Employee з такими атрибутами, як department та salary. Створіть клас Manager, який успадковує обидва класи Person та Employee. Продемонструйте використання множинної спадковості, створивши обʼєкт класу Manager та отримавши mro для цього класу."
   ],
   "metadata": {
    "id": "lmV8pAwwNIqu"
   }
  },
  {
   "cell_type": "code",
   "source": [
    "class Person:\n",
    "    def __init__(self, name, age):\n",
    "        self.name = name\n",
    "        self.age = age\n",
    "\n",
    "class Employee:\n",
    "    def __init__(self, department, salary):\n",
    "        self.department = department\n",
    "        self.salary = salary\n",
    "\n",
    "class Manager(Person, Employee):\n",
    "    def __init__(self, name, age, department, salary):\n",
    "        Person.__init__(self, name, age)\n",
    "        Employee.__init__(self, department, salary)\n",
    "\n",
    "manager = Manager('Kevin', 29, 'UI/UX design', 30000)\n",
    "print(Manager.__mro__)"
   ],
   "metadata": {
    "id": "R49grKlWNPeN",
    "colab": {
     "base_uri": "https://localhost:8080/"
    },
    "outputId": "17e2466b-b9a5-4350-e837-c9715ea7e28b",
    "ExecuteTime": {
     "start_time": "2024-03-03T16:38:29.489294Z"
    }
   },
   "execution_count": null,
   "outputs": []
  },
  {
   "cell_type": "markdown",
   "source": [
    "# II. Iterator"
   ],
   "metadata": {
    "id": "dIJyUiNBFG8G"
   }
  },
  {
   "cell_type": "markdown",
   "source": [
    "11. (4б). Визначте рядок(str) з 4ма різними за значенням символами. Створіть ітератор на основі цього рядка. Викличте 5 разів функцію next на ітераторі, 4ри перших з них огорніть у ф-цію print()."
   ],
   "metadata": {
    "id": "13vsm0NyKIzL"
   }
  },
  {
   "cell_type": "code",
   "source": [
    "string = 'abcd'\n",
    "stringIterator = iter(string)\n",
    "print(next(stringIterator))\n",
    "print(next(stringIterator))\n",
    "print(next(stringIterator))\n",
    "print(next(stringIterator))\n",
    "next(stringIterator)"
   ],
   "metadata": {
    "id": "81ntabAkKuz-",
    "colab": {
     "base_uri": "https://localhost:8080/",
     "height": 241
    },
    "outputId": "dc926a95-a0c5-4cc7-a0b2-2a6756123375",
    "ExecuteTime": {
     "start_time": "2024-03-03T16:38:29.490181Z"
    }
   },
   "execution_count": null,
   "outputs": []
  },
  {
   "cell_type": "markdown",
   "source": [
    "А що якщо викликати цю ж функцію на рядку?"
   ],
   "metadata": {
    "id": "aekWHGXOLRsO"
   }
  },
  {
   "cell_type": "code",
   "source": [
    "next(string)"
   ],
   "metadata": {
    "id": "mxATGsErLV1i",
    "colab": {
     "base_uri": "https://localhost:8080/",
     "height": 139
    },
    "outputId": "cc2034fd-4ff0-4ee3-9014-3579c2ff71d7",
    "ExecuteTime": {
     "start_time": "2024-03-03T16:38:29.491289Z"
    }
   },
   "execution_count": null,
   "outputs": []
  },
  {
   "cell_type": "markdown",
   "source": [
    " 12. (5б). Опишіть своїми словами в одному реченні, як ви розумієте різницю між ітерабельними обʼєктами та ітераторами (можна на прикладі)."
   ],
   "metadata": {
    "id": "XwtMEopwJ4pH"
   }
  },
  {
   "cell_type": "markdown",
   "source": [
    "Ітерабельні об'єкти це ті об'єкти, які ми можемо перебирати наприклад списки, а ітератори - це об'єкти які послідовно повертають нам значення під час ітерації"
   ],
   "metadata": {
    "id": "-sHrODc3KFn8"
   }
  },
  {
   "cell_type": "markdown",
   "source": [
    "13. (11б). Створіть клас, що має визначений Iterator Protocol та при кожному виклику next повертає літери англійської абетки, поки вони не вичерпаються."
   ],
   "metadata": {
    "id": "E9qJWmNbK8Gl"
   }
  },
  {
   "cell_type": "code",
   "source": [
    "class MyIterableClass:\n",
    "    def __init__(self, start, end):\n",
    "        self.start = start\n",
    "        self.end = end\n",
    "        self.current = chr(ord(start) - 1)\n",
    "\n",
    "    def __iter__(self):\n",
    "        return self\n",
    "\n",
    "    def __next__(self):\n",
    "      if self.current != self.end:\n",
    "          char_code = ord(self.current)\n",
    "          char_code += 1\n",
    "          self.current = chr(char_code)\n",
    "          return self.current\n",
    "      else: raise StopIteration\n",
    "\n",
    "my_iterable_class = MyIterableClass('a', 'z')\n",
    "for item in my_iterable_class:\n",
    "    print(item)\n",
    "\n"
   ],
   "metadata": {
    "id": "cqx-g_RsLo6I",
    "colab": {
     "base_uri": "https://localhost:8080/"
    },
    "outputId": "129ede70-d781-4fa9-f71b-c427102ec844",
    "ExecuteTime": {
     "start_time": "2024-03-03T16:38:29.492372Z"
    }
   },
   "execution_count": null,
   "outputs": []
  },
  {
   "cell_type": "markdown",
   "source": [
    "# Вітаю! Ви велика(ий) молодець, що впоралась(вся). Похваліть себе та побалуйте чимось приємним. Я Вами пишаюся."
   ],
   "metadata": {
    "id": "Z3E3S_s1Fv7-"
   }
  }
 ]
}
